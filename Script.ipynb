{
 "cells": [
  {
   "cell_type": "code",
   "execution_count": null,
   "metadata": {},
   "outputs": [],
   "source": [
    "import pandas as pd\n",
    "import os\n",
    "import numpy\n",
    "import seaborn as sns\n",
    "import matplotlib.pyplot as plt\n",
    "\n",
    "# pd.set_option('display.max_rows', None)  # To display all rows\n",
    "# pd.set_option('display.max_columns', None)  # To display all columns"
   ]
  },
  {
   "cell_type": "code",
   "execution_count": null,
   "metadata": {},
   "outputs": [],
   "source": [
    "dir = os.getcwd()\n",
    "data_path = os.path.join(dir, 'full_03_04')\n",
    "\n",
    "page_views = pd.read_csv(os.path.join(data_path, 'page_views.csv'), index_col='student_id')"
   ]
  },
  {
   "cell_type": "code",
   "execution_count": null,
   "metadata": {},
   "outputs": [],
   "source": [
    "page_views.head(25)"
   ]
  },
  {
   "cell_type": "markdown",
   "metadata": {},
   "source": [
    "We want to take a look at engaged and was_completed"
   ]
  },
  {
   "cell_type": "code",
   "execution_count": null,
   "metadata": {},
   "outputs": [],
   "source": [
    "# Let's look at the size of page_views\n",
    "page_views.shape"
   ]
  },
  {
   "cell_type": "code",
   "execution_count": null,
   "metadata": {},
   "outputs": [],
   "source": [
    "# Filter by desired book type\n",
    "filtered_page_views = page_views[page_views['book'].isin(['College / Statistics and Data Science (ABC)', 'High School / Advanced Statistics and Data Science I (ABC)'])]"
   ]
  },
  {
   "cell_type": "code",
   "execution_count": null,
   "metadata": {},
   "outputs": [],
   "source": [
    "# Filter for relevant columns\n",
    "filtered_page_views = filtered_page_views.loc[:,['book', 'chapter_number', 'section_number', 'was_complete']]\n",
    "filtered_page_views.head(25)\n",
    "\n",
    "# Drop NAs\n",
    "filtered_page_views.dropna(subset=['chapter_number', 'section_number'], inplace=True)"
   ]
  },
  {
   "cell_type": "code",
   "execution_count": null,
   "metadata": {},
   "outputs": [],
   "source": [
    "# Determine number of unique students in data\n",
    "num_unique_students = filtered_page_views.index.nunique()\n",
    "num_unique_students"
   ]
  },
  {
   "cell_type": "markdown",
   "metadata": {},
   "source": [
    "### Create engagement dataframe"
   ]
  },
  {
   "cell_type": "code",
   "execution_count": null,
   "metadata": {},
   "outputs": [],
   "source": [
    "# convert was_complete column to bool\n",
    "filtered_page_views['was_complete'] = filtered_page_views['was_complete'].astype(bool)\n",
    "filtered_page_views['chapter_number'] = filtered_page_views['chapter_number'].astype(int)\n",
    "filtered_page_views['section_number'] = filtered_page_views['section_number'].astype(int)\n",
    "\n",
    "# create new dataframe which includes only rows where was_complete is True\n",
    "completed_views = filtered_page_views[filtered_page_views['was_complete']]\n",
    "\n",
    "# Group by chapter and section and count unique occurences of True\n",
    "chapter_section_counts = completed_views.reset_index().groupby(['chapter_number', 'section_number']).agg({'student_id': 'nunique'})\n",
    "\n",
    "# Rename columns\n",
    "chapter_section_counts.rename(columns={'student_id': 'completion proportion'}, inplace=True)\n",
    "\n",
    "# convert completion to proportion\n",
    "chapter_section_counts['completion proportion'] = (chapter_section_counts['completion proportion'] / num_unique_students).round(3)\n",
    "\n",
    "# Print the results\n",
    "\n",
    "pd.set_option('display.max_rows', None)  # To display all rows\n",
    "chapter_section_counts\n",
    "\n",
    "# export as csv\n",
    "# chapter_section_counts.to_csv('chapter_section_engagement_metrics.csv')"
   ]
  },
  {
   "cell_type": "code",
   "execution_count": null,
   "metadata": {},
   "outputs": [],
   "source": [
    "# Graph 1: Plotted mean proportion per CHAPTER\n",
    "\n",
    "avg_completion_proportion = chapter_section_counts.groupby(level='chapter_number')['completion proportion'].mean().reset_index()\n",
    "\n",
    "# Plot using Seaborn\n",
    "plt.figure(figsize=(10, 6))\n",
    "sns.lineplot(data=avg_completion_proportion, x='chapter_number', y='completion proportion', marker='o')\n",
    "plt.xlabel('Chapter Number')\n",
    "plt.ylabel('Average Completion Proportion')\n",
    "plt.title('Average Completion Proportion by Chapter')\n",
    "sns.set_theme(style=\"whitegrid\")\n",
    "plt.show()"
   ]
  },
  {
   "cell_type": "code",
   "execution_count": null,
   "metadata": {},
   "outputs": [],
   "source": [
    "# calculate chapter over chapter % difference\n",
    "\n",
    "pct_difference = avg_completion_proportion['completion proportion'].pct_change() * 100\n",
    "pct_difference.mean()"
   ]
  },
  {
   "cell_type": "code",
   "execution_count": null,
   "metadata": {},
   "outputs": [],
   "source": [
    "pct_difference"
   ]
  },
  {
   "cell_type": "code",
   "execution_count": null,
   "metadata": {},
   "outputs": [],
   "source": [
    "# Plot chapter section completion rate\n",
    "chapter_section_counts_reset = chapter_section_counts.reset_index()\n",
    "\n",
    "# Plot completion proportion by chapter section for each chapter\n",
    "plt.figure(figsize=(10, 6))\n",
    "for chapter in chapter_section_counts_reset['chapter_number'].unique():\n",
    "    chapter_data = chapter_section_counts_reset[chapter_section_counts_reset['chapter_number'] == chapter]\n",
    "    plt.plot(chapter_data['section_number'], chapter_data['completion proportion'], marker='o', linestyle='-', label=f'Chapter {chapter}')\n",
    "\n",
    "plt.xlabel('Section Number')\n",
    "plt.ylabel('Completion Proportion')\n",
    "plt.title('Completion Proportion by Chapter Section')\n",
    "plt.grid(True)\n",
    "plt.legend()\n",
    "plt.show()"
   ]
  },
  {
   "cell_type": "code",
   "execution_count": null,
   "metadata": {},
   "outputs": [],
   "source": [
    "# Graph 2: Plot the same thing as a boxplot\n",
    "\n",
    "import seaborn as sns\n",
    "import matplotlib.pyplot as plt\n",
    "\n",
    "# Set the dark theme\n",
    "sns.set_theme(style=\"white\")\n",
    "\n",
    "# Assuming your DataFrame is named chapter_section_counts\n",
    "# Group by chapter_number and calculate the mean completion proportion\n",
    "avg_completion_proportion = chapter_section_counts.groupby(level='chapter_number')['completion proportion'].mean().reset_index()\n",
    "\n",
    "# Plot using Seaborn\n",
    "plt.figure(figsize=(10, 6))\n",
    "sns.boxplot(data=chapter_section_counts, x='chapter_number', y='completion proportion', palette='rocket_r')\n",
    "plt.xlabel('Chapter Number')\n",
    "plt.ylabel('Completion Proportion')\n",
    "plt.title('Distribution of Completion Proportion by Chapter')\n",
    "plt.show()"
   ]
  },
  {
   "cell_type": "code",
   "execution_count": null,
   "metadata": {},
   "outputs": [],
   "source": [
    "import matplotlib.pyplot as plt\n",
    "\n",
    "# Assuming you have a DataFrame called 'text_df' with columns 'chapter_number' and 'section_number'\n",
    "sections_per_chapter = chapter_section_counts.groupby('chapter_number')['section_number'].count()\n",
    "\n",
    "# Plotting\n",
    "plt.figure(figsize=(10, 6))\n",
    "sections_per_chapter.plot(kind='bar', color='skyblue')\n",
    "plt.title('Number of Sections per Chapter')\n",
    "plt.xlabel('Chapter Number')\n",
    "plt.ylabel('Number of Sections')\n",
    "plt.xticks(rotation=45)\n",
    "plt.grid(axis='y', linestyle='--', alpha=0.7)\n",
    "plt.tight_layout()\n",
    "plt.show()"
   ]
  },
  {
   "cell_type": "code",
   "execution_count": null,
   "metadata": {},
   "outputs": [],
   "source": [
    "# Plot engagement by chapter\n",
    "\n",
    "sns.set_theme(style='white')\n",
    "avg_engagement_time = chapter_section_counts.groupby(level='chapter_number')['engagement time (minutes)'].mean().reset_index()\n",
    "\n",
    "plt.figure(figsize=(10,6))\n",
    "sns.boxplot(data=chapter_section_counts, x='chapter_number', y='engagement time (minutes)', palette='rocket_r')\n",
    "plt.xlabel('Chapter Number')\n",
    "plt.ylabel('Engagement Time (minutes)')\n",
    "plt.title('Distribution of Engagement by Chapter')\n",
    "plt.show()"
   ]
  },
  {
   "cell_type": "markdown",
   "metadata": {},
   "source": [
    "### Drill-down analytics"
   ]
  },
  {
   "cell_type": "code",
   "execution_count": null,
   "metadata": {},
   "outputs": [],
   "source": [
    "# Let's investigate chapter 11\n",
    "\n",
    "df = chapter_section_counts.reset_index()\n",
    "ch11 = df[df['chapter_number'] == 11]\n",
    "ch11"
   ]
  },
  {
   "cell_type": "code",
   "execution_count": null,
   "metadata": {},
   "outputs": [],
   "source": [
    "# Let's plot chapter 11\n",
    "plt.figure(figsize=(8,8))\n",
    "sns.lineplot(data=ch11, x='section_number', y='engagement time (minutes)', linewidth = 3.5, color='darkblue')\n",
    "plt.xlabel('Section Number')\n",
    "plt.ylabel('Number of Students')\n",
    "plt.title('Engagement Time by Chapter Section')\n",
    "plt.show()"
   ]
  },
  {
   "cell_type": "code",
   "execution_count": null,
   "metadata": {},
   "outputs": [],
   "source": [
    "# Let's investigate chapter 4\n",
    "\n",
    "df = chapter_section_counts.reset_index()\n",
    "ch4 = df[df['chapter_number'] == 4]\n",
    "ch4['completion proportion'].min()\n",
    "ch4"
   ]
  },
  {
   "cell_type": "code",
   "execution_count": null,
   "metadata": {},
   "outputs": [],
   "source": [
    "# Let's plot chapter 4\n",
    "plt.figure(figsize=(8,8))\n",
    "sns.lineplot(data=ch4, x='section_number', y='completion proportion', linewidth = 3.5, color='darkblue')\n",
    "plt.xlabel('Section Number')\n",
    "plt.ylabel('Number of Students')\n",
    "plt.title('Number of Students Completing Each Section by Chapter Section')\n",
    "plt.show()"
   ]
  },
  {
   "cell_type": "code",
   "execution_count": null,
   "metadata": {},
   "outputs": [],
   "source": []
  }
 ],
 "metadata": {
  "kernelspec": {
   "display_name": "Python 3",
   "language": "python",
   "name": "python3"
  },
  "language_info": {
   "codemirror_mode": {
    "name": "ipython",
    "version": 3
   },
   "file_extension": ".py",
   "mimetype": "text/x-python",
   "name": "python",
   "nbconvert_exporter": "python",
   "pygments_lexer": "ipython3",
   "version": "3.11.0"
  }
 },
 "nbformat": 4,
 "nbformat_minor": 2
}
