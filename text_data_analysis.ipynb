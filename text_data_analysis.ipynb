{
 "cells": [
  {
   "cell_type": "code",
   "execution_count": null,
   "metadata": {},
   "outputs": [],
   "source": [
    "import pandas as pd\n",
    "import matplotlib.pyplot as plt\n",
    "%matplotlib inline\n",
    "import seaborn as sns\n",
    "import requests\n",
    "from bs4 import BeautifulSoup\n",
    "from urllib.parse import urljoin\n",
    "import os"
   ]
  },
  {
   "cell_type": "code",
   "execution_count": null,
   "metadata": {},
   "outputs": [],
   "source": [
    "# URL of webpage\n",
    "base_url = 'https://coursekata.org'\n",
    "url = f'{base_url}/preview/default/program'\n",
    "\n",
    "# Send a GET request to the URL\n",
    "response = requests.get(url)\n",
    "\n",
    "# Parse the HTML doc\n",
    "soup = BeautifulSoup(response.text, 'html.parser')\n",
    "\n",
    "# Find the <a> elements under class course-content with href attribute\n",
    "course_content_links = soup.find_all('a', href=True)\n",
    "\n",
    "# Filter links to only include textbook section links\n",
    "relative_links = [link for link in course_content_links if '/preview/book' in link['href']]\n",
    "\n",
    "# combine relative URLs with base URL\n",
    "full_links = [urljoin(base_url, link['href']) for link in relative_links]\n",
    "\n",
    "for link in full_links:\n",
    "    print(link)"
   ]
  },
  {
   "cell_type": "markdown",
   "metadata": {},
   "source": [
    "## Scrape individual section page data"
   ]
  },
  {
   "cell_type": "code",
   "execution_count": null,
   "metadata": {},
   "outputs": [],
   "source": [
    "# let's create a function to help us scrape from each individual page\n",
    "\n",
    "def scrape_textbook_page(url):\n",
    "    # send GET request to url\n",
    "    response = requests.get(url)\n",
    "\n",
    "    # parse HTML content\n",
    "    soup = BeautifulSoup(response.text, 'html.parser')\n",
    "\n",
    "    # Find text\n",
    "    paragraphs = soup.find_all('p')\n",
    "    text = '\\n'.join(paragraph.get_text() for paragraph in paragraphs)\n",
    "\n",
    "    return text"
   ]
  },
  {
   "cell_type": "code",
   "execution_count": null,
   "metadata": {},
   "outputs": [],
   "source": [
    "# # Scrape data from each link and store it in a DataFrame\n",
    "# data = []\n",
    "# for link in full_links:\n",
    "#     text = scrape_textbook_page(link)\n",
    "#     data.append({'URL': link,\n",
    "#                  'Text': text})\n",
    "    \n",
    "# df = pd.DataFrame(data)\n",
    "# df"
   ]
  },
  {
   "cell_type": "markdown",
   "metadata": {},
   "source": [
    "## Let's add more columns to the data"
   ]
  },
  {
   "cell_type": "code",
   "execution_count": null,
   "metadata": {},
   "outputs": [],
   "source": [
    "# Add col to count the number of words in each page\n",
    "df['word_count'] = df['Text'].apply(lambda x: len(str(x).split()))"
   ]
  },
  {
   "cell_type": "code",
   "execution_count": null,
   "metadata": {},
   "outputs": [],
   "source": [
    "# Export data to a CSV\n",
    "# df.to_csv('text_data.csv')"
   ]
  },
  {
   "cell_type": "code",
   "execution_count": null,
   "metadata": {},
   "outputs": [],
   "source": [
    "# Set display options to show full content\n",
    "pd.set_option('display.max_colwidth', None)\n",
    "\n",
    "# Filter the DataFrame and print the text content\n",
    "print(df[df['URL'] == 'https://coursekata.org/preview/book/fd645e20-5a0d-482e-ad16-ee689acb7431/lesson/3/6']['Text'])"
   ]
  },
  {
   "cell_type": "markdown",
   "metadata": {},
   "source": [
    "## Import Data"
   ]
  },
  {
   "cell_type": "code",
   "execution_count": null,
   "metadata": {},
   "outputs": [],
   "source": [
    "text_df = pd.read_csv('text_data.csv')\n",
    "text_df['Text'] = text_df['Text'].astype(str)\n",
    "text_df.head(1)"
   ]
  },
  {
   "cell_type": "code",
   "execution_count": null,
   "metadata": {},
   "outputs": [],
   "source": [
    "# Plot word_count with completion on the y\n",
    "plt.figure(figsize=(16,10))\n",
    "sns.scatterplot(data = text_df, x='word_count', y='completion proportion')\n",
    "plt.show()"
   ]
  },
  {
   "cell_type": "code",
   "execution_count": null,
   "metadata": {},
   "outputs": [],
   "source": [
    "# Let's look at complexity\n",
    "import textstat"
   ]
  },
  {
   "cell_type": "code",
   "execution_count": null,
   "metadata": {},
   "outputs": [],
   "source": [
    "text_df['text_fog_score'] = text_df['Text'].apply(lambda x: textstat.gunning_fog(x))\n",
    "text_df['text_fog_score']"
   ]
  },
  {
   "cell_type": "markdown",
   "metadata": {},
   "source": [
    "# Flesch reading index"
   ]
  },
  {
   "cell_type": "code",
   "execution_count": null,
   "metadata": {},
   "outputs": [],
   "source": [
    "text_df['text_readability_score'] = text_df['Text'].apply(lambda x: textstat.flesch_reading_ease(x))"
   ]
  },
  {
   "cell_type": "code",
   "execution_count": null,
   "metadata": {},
   "outputs": [],
   "source": [
    "# Plot completion against readibility\n",
    "plt.figure(figsize=(8,7))\n",
    "sns.scatterplot(data=text_df, x='text_readability_score', y='completion proportion', hue='chapter_number')\n",
    "sns.regplot(data=text_df, x='text_readability_score', y='completion proportion', scatter=False)"
   ]
  },
  {
   "cell_type": "code",
   "execution_count": null,
   "metadata": {},
   "outputs": [],
   "source": [
    "# Plot completion against fog\n",
    "plt.figure(figsize=(8,7))\n",
    "sns.scatterplot(data=text_df, x='text_fog_score', y='completion proportion', hue='chapter_number')\n",
    "sns.regplot(data=text_df, x='text_fog_score', y='completion proportion', scatter=False)"
   ]
  },
  {
   "cell_type": "code",
   "execution_count": null,
   "metadata": {},
   "outputs": [],
   "source": [
    "import seaborn as sns\n",
    "sns.pairplot(text_df)"
   ]
  },
  {
   "cell_type": "code",
   "execution_count": null,
   "metadata": {},
   "outputs": [],
   "source": [
    "# Test for statistical significance - linear reg\n",
    "\n",
    "import statsmodels.api as sm\n",
    "# Fit a linear regression model\n",
    "X = text_df['text_readability_score']\n",
    "y = text_df['completion proportion']\n",
    "X = sm.add_constant(X)  # Add a constant term to the predictor\n",
    "model = sm.OLS(y, X).fit()\n",
    "\n",
    "# Print the summary of the regression model\n",
    "print(model.summary())\n"
   ]
  },
  {
   "cell_type": "markdown",
   "metadata": {},
   "source": [
    "# Fog index"
   ]
  },
  {
   "cell_type": "code",
   "execution_count": null,
   "metadata": {},
   "outputs": [],
   "source": [
    "text_df.columns"
   ]
  },
  {
   "cell_type": "code",
   "execution_count": null,
   "metadata": {},
   "outputs": [],
   "source": [
    "# Plot completion against fog_index\n",
    "plt.figure(figsize=(8,7))\n",
    "sns.scatterplot(data=text_df, x='text_fog_score', y='completion proportion', hue='chapter_number')\n",
    "sns.regplot(data=text_df, x='text_fog_score', y='completion proportion', scatter=False)"
   ]
  },
  {
   "cell_type": "code",
   "execution_count": null,
   "metadata": {},
   "outputs": [],
   "source": [
    "# Test for statistical significance\n",
    "\n",
    "import statsmodels.api as sm\n",
    "# Fit a linear regression model\n",
    "X = text_df['text_fog_score']\n",
    "y = text_df['completion proportion']\n",
    "X = sm.add_constant(X)  # Add a constant term to the predictor\n",
    "model = sm.OLS(y, X).fit()\n",
    "\n",
    "# Print the summary of the regression model\n",
    "print(model.summary())\n"
   ]
  },
  {
   "cell_type": "code",
   "execution_count": null,
   "metadata": {},
   "outputs": [],
   "source": [
    "text_df.to_csv('scraped_text.csv')"
   ]
  },
  {
   "cell_type": "code",
   "execution_count": null,
   "metadata": {},
   "outputs": [],
   "source": [
    "# Calculate the number of sections per chapter\n",
    "sections_per_chapter = text_df.groupby('chapter_number')['section_number'].count().reset_index()\n",
    "\n",
    "# Calculate the completion rate for each chapter\n",
    "completion_rate = text_df.groupby('chapter_number')['completion proportion'].mean().reset_index()\n",
    "\n",
    "# Merge the two dataframes on 'chapter_number'\n",
    "merged_df = sections_per_chapter.merge(completion_rate, on='chapter_number', suffixes=('_sections', '_completion_rate'))\n",
    "\n",
    "# Plot the graph\n",
    "sns.scatterplot(x='section_number', y='completion proportion', data=merged_df)\n",
    "plt.xlabel('Number of Sections per Chapter')\n",
    "plt.ylabel('Completion Proportion')\n",
    "plt.title('Completion Proportion vs Number of Sections per Chapter')\n",
    "plt.show()"
   ]
  }
 ],
 "metadata": {
  "kernelspec": {
   "display_name": "Python 3",
   "language": "python",
   "name": "python3"
  },
  "language_info": {
   "codemirror_mode": {
    "name": "ipython",
    "version": 3
   },
   "file_extension": ".py",
   "mimetype": "text/x-python",
   "name": "python",
   "nbconvert_exporter": "python",
   "pygments_lexer": "ipython3",
   "version": "3.11.0"
  }
 },
 "nbformat": 4,
 "nbformat_minor": 2
}
